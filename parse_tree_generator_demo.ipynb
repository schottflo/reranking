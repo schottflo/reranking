{
 "cells": [
  {
   "cell_type": "code",
   "execution_count": 15,
   "id": "bc72c5a9",
   "metadata": {},
   "outputs": [],
   "source": [
    "import os\n",
    "import string\n",
    "from copy import deepcopy\n",
    "from nltk.treetransforms import collapse_unary, chomsky_normal_form\n",
    "from cfgen import GrammarModel, clean_output_text\n",
    "from stat_parser import Parser"
   ]
  },
  {
   "cell_type": "code",
   "execution_count": 12,
   "id": "450650d2",
   "metadata": {},
   "outputs": [
    {
     "ename": "NameError",
     "evalue": "name 'os' is not defined",
     "output_type": "error",
     "traceback": [
      "\u001b[1;31m---------------------------------------------------------------------------\u001b[0m",
      "\u001b[1;31mNameError\u001b[0m                                 Traceback (most recent call last)",
      "\u001b[1;32m<ipython-input-12-108c0fe45ea3>\u001b[0m in \u001b[0;36m<module>\u001b[1;34m\u001b[0m\n\u001b[1;32m----> 1\u001b[1;33m \u001b[0mPATH\u001b[0m \u001b[1;33m=\u001b[0m \u001b[0mos\u001b[0m\u001b[1;33m.\u001b[0m\u001b[0mgetcwd\u001b[0m\u001b[1;33m(\u001b[0m\u001b[1;33m)\u001b[0m \u001b[1;33m+\u001b[0m \u001b[1;34m\"\\corpora\"\u001b[0m\u001b[1;33m\u001b[0m\u001b[1;33m\u001b[0m\u001b[0m\n\u001b[0m\u001b[0;32m      2\u001b[0m \u001b[1;33m\u001b[0m\u001b[0m\n\u001b[0;32m      3\u001b[0m \u001b[1;32mdef\u001b[0m \u001b[0mgenerate_random_sentence\u001b[0m\u001b[1;33m(\u001b[0m\u001b[0mgrammar\u001b[0m\u001b[1;33m,\u001b[0m \u001b[0mref_sentence\u001b[0m\u001b[1;33m)\u001b[0m\u001b[1;33m:\u001b[0m\u001b[1;33m\u001b[0m\u001b[1;33m\u001b[0m\u001b[0m\n\u001b[0;32m      4\u001b[0m     \"\"\"\n\u001b[0;32m      5\u001b[0m     \u001b[0mGiven\u001b[0m \u001b[0ma\u001b[0m \u001b[0mcfgen\u001b[0m\u001b[1;33m.\u001b[0m\u001b[0mGrammarModel\u001b[0m \u001b[0mgenerate\u001b[0m \u001b[0ma\u001b[0m \u001b[0mrandom\u001b[0m \u001b[0msentence\u001b[0m \u001b[1;32mfrom\u001b[0m \u001b[0mthe\u001b[0m \u001b[0minferred\u001b[0m \u001b[0mgrammar\u001b[0m\u001b[1;33m.\u001b[0m\u001b[1;33m\u001b[0m\u001b[1;33m\u001b[0m\u001b[0m\n",
      "\u001b[1;31mNameError\u001b[0m: name 'os' is not defined"
     ]
    }
   ],
   "source": [
    "PATH = os.getcwd() + \"\\corpora\""
   ]
  },
  {
   "cell_type": "code",
   "execution_count": 7,
   "id": "f39ab240",
   "metadata": {},
   "outputs": [],
   "source": [
    "grammar = GrammarModel(r\"C:\\Users\\Flori\\Documents\\Studium\\ETH Zürich\\Master Thesis\\code\\parse_tree_generator\\resources\\corpora\\war_and_peace.txt\", 3)"
   ]
  },
  {
   "cell_type": "code",
   "execution_count": 16,
   "id": "17d860db",
   "metadata": {},
   "outputs": [
    {
     "name": "stdout",
     "output_type": "stream",
     "text": [
      "---Parse Tree 1/3 created---\n",
      "---Parse Tree 2/3 created---\n",
      "---Parse Tree 3/3 created---\n",
      "[Tree('NP+S', [Tree('NP', [Tree('DT', ['a']), Tree('NN', ['half'])]), Tree('VP', [Tree('VBN', ['supported']), Tree('NP', [Tree('NP', [Tree('DT', ['the']), Tree('NN', ['post'])]), Tree('NP|<CC-DT-NN>', [Tree('CC', ['and']), Tree('NP|<DT-NN>', [Tree('DT', ['the']), Tree('NN', ['pit'])])])])])]), Tree('NP+S', [Tree('NP', [Tree('DT', ['the']), Tree('NN', ['expression'])]), Tree('VP', [Tree('VB', ['heard']), Tree('NP', [Tree('NP', [Tree('CC', ['and']), Tree('NP|<DT-NN>', [Tree('DT', ['the']), Tree('NN', ['conductor'])])]), Tree('NP|<CC-DT-NN>', [Tree('CC', ['and']), Tree('NP|<DT-NN>', [Tree('DT', ['an']), Tree('NN', ['study'])])])])])]), Tree('NP+S', [Tree('NP', [Tree('DT', ['the']), Tree('NN', ['hill'])]), Tree('VP', [Tree('VBD', ['flattered']), Tree('SBAR+S', [Tree('NP', [Tree('DT', ['the']), Tree('NN', ['angle'])]), Tree('VP', [Tree('ADVP', [Tree('RB', ['all'])]), Tree('VB', ['ease'])])])])])]\n"
     ]
    }
   ],
   "source": [
    "def generate_random_sentence(grammar, ref_sentence):\n",
    "    \"\"\"\n",
    "    Given a cfgen.GrammarModel generate a random sentence from the inferred grammar.\n",
    "\n",
    "    :param grammar: cfgen.GrammarModel\n",
    "    :param ref_sentence: str\n",
    "    :return: str\n",
    "    \"\"\"\n",
    "    sentence = grammar.make_sentence(fixed_grammar=True, sample_sentence=ref_sentence, do_markov=True)\n",
    "\n",
    "    # Correct the sentence and remove punctuation\n",
    "    corrected_sentence = clean_output_text(sentence).translate(str.maketrans('', '', string.punctuation))\n",
    "\n",
    "    return corrected_sentence\n",
    "\n",
    "def parse_sentence(sentence):\n",
    "    \"\"\"\n",
    "    Parse a sentence and transform the resulting tree into CNF.\n",
    "\n",
    "    :param sentence: str\n",
    "    :return: nltk.Tree\n",
    "    \"\"\"\n",
    "    parser = Parser()\n",
    "\n",
    "    original_parse_tree = parser.parse(sentence)\n",
    "    parse_tree = deepcopy(original_parse_tree)\n",
    "\n",
    "    collapse_unary(parse_tree)\n",
    "    chomsky_normal_form(parse_tree)\n",
    "\n",
    "    return parse_tree\n",
    "\n",
    "num_trees = 3\n",
    "ref_sentence = 'The dog chased the cat and the mouse.'\n",
    "\n",
    "parse_trees = []\n",
    "for num in range(num_trees):\n",
    "    sentence = generate_random_sentence(grammar=grammar, ref_sentence=ref_sentence)\n",
    "    parse_tree = parse_sentence(sentence=sentence)\n",
    "    parse_trees.append(parse_tree)\n",
    "    print(f\"---Parse Tree {num+1}/{num_trees} created---\")\n",
    "    \n",
    "print(parse_trees)"
   ]
  }
 ],
 "metadata": {
  "kernelspec": {
   "display_name": "mt",
   "language": "python",
   "name": "mt"
  },
  "language_info": {
   "codemirror_mode": {
    "name": "ipython",
    "version": 3
   },
   "file_extension": ".py",
   "mimetype": "text/x-python",
   "name": "python",
   "nbconvert_exporter": "python",
   "pygments_lexer": "ipython3",
   "version": "3.8.0"
  }
 },
 "nbformat": 4,
 "nbformat_minor": 5
}
