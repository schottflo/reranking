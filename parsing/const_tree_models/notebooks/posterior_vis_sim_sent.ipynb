{
 "cells": [
  {
   "cell_type": "code",
   "execution_count": 38,
   "metadata": {},
   "outputs": [],
   "source": [
    "# The test sentences are based on sentence with index 0 and 4 from the treebank used by NLTK\n",
    "# Importantly, they cannot contain words not included in the treebank, otherwise the chart parser will fail.\n",
    "test_sentences = [ \n",
    "    ['Mr.', 'Vinken', 'is', 'chairman', 'of', 'Elsevier', 'N.V.', ',', 'the', 'Dutch', 'publishing', 'group', '.'],\n",
    "    ['Mrs.', 'Barnum', 'is', 'chairman', 'of', 'Elsevier', 'N.V.', ',', 'the', 'Dutch', 'publishing', 'group', '.'],\n",
    "    ['Mr.', 'Barnum', 'is', 'chairman', 'of', 'Elsevier', 'N.V.', ',', 'the', 'Dutch', 'publishing', 'group', '.'],\n",
    "    ['Mr.', 'Vinken', 'is', 'president', 'of', 'Elsevier', 'N.V.', ',', 'the', 'Dutch', 'publishing', 'group', '.'],\n",
    "    ['Mr.', 'Vinken', 'is', 'chairman', 'of', 'Apple', 'N.V.', ',', 'the', 'Dutch', 'publishing', 'group', '.'],\n",
    "    ['Mr.', 'Vinken', 'is', 'chairman', 'of', 'Elsevier', 'N.V.', ',', 'the', 'U.S.', 'publishing', 'group', '.'],\n",
    "    ['Mr.', 'Vinken', 'is', 'chairman', 'of', 'Elsevier', 'N.V.', ',', 'the', 'Dutch', 'financial', 'company', '.'],\n",
    "    ['The', 'top', 'money', 'funds', 'are', 'currently', 'yielding', 'well', 'over', '9', '%', '.'],\n",
    "    ['The', 'good', 'money', 'funds', 'are', 'currently', 'yielding', 'well', 'over', '9', '%', '.'],\n",
    "    ['The', 'top', 'investment', 'funds', 'are', 'currently', 'yielding', 'well', 'over', '9', '%', '.'],\n",
    "    ['The', 'top', 'money', 'companies', 'are', 'currently', 'yielding', 'well', 'over', '9', '%', '.'],\n",
    "    ['The', 'top', 'money', 'funds', 'are', 'currently', 'making', 'well', 'over', '9', '%', '.'],\n",
    "    ['The', 'top', 'money', 'funds', 'are', 'currently', 'yielding', 'just', 'over', '9', '%', '.'],\n",
    "    ['The', 'top', 'money', 'funds', 'are', 'currently', 'yielding', 'well', 'below', '9', '%', '.'],\n",
    "]"
   ]
  },
  {
   "cell_type": "code",
   "execution_count": 3,
   "metadata": {},
   "outputs": [],
   "source": [
    "from parsing.data_structures.const_tree import Node, Production, ConstituencyTree\n",
    "from parsing.algorithms.cd_const_dynamic_program import compute_num_matching_subtrees_dp\n",
    "from parsing.const_tree_models.data_generator import transform_nltk_trees\n",
    "from parsing.const_tree_models.helpers.modeling_helpers import prepare_dataset\n",
    "\n",
    "from nltk.corpus import treebank\n",
    "from nltk import Nonterminal, induce_pcfg\n",
    "from nltk.tree import Tree\n",
    "from nltk.parse import pchart\n",
    "\n",
    "from sentence_transformers import SentenceTransformer\n",
    "\n",
    "\n",
    "import autograd.numpy as np\n",
    "from autograd import grad\n",
    "from random import seed, shuffle, sample, randrange\n",
    "from scipy.spatial.distance import squareform\n",
    "\n",
    "from GPy.kern.src.kern import Kern\n",
    "from GPy.core import Param\n",
    "from GPy.models import GPClassification\n",
    "\n",
    "import seaborn as sb\n",
    "import matplotlib.pyplot as plt"
   ]
  },
  {
   "cell_type": "code",
   "execution_count": 4,
   "metadata": {},
   "outputs": [],
   "source": [
    "# Kernel class\n",
    "\n",
    "class Custom_GPY(Kern):\n",
    "\n",
    "    def __init__(self, input_dim, lamb, e, active_dims=None):\n",
    "        super(Custom_GPY, self).__init__(input_dim, active_dims, 'custom')\n",
    "\n",
    "        self.lamb = Param('lamb', lamb)\n",
    "        self.lamb.constrain_positive()\n",
    "\n",
    "        self.emb_scale = Param('emb_scale', e)\n",
    "        self.emb_scale.constrain_positive()\n",
    "\n",
    "        self.link_parameters(self.lamb, self.emb_scale)\n",
    "\n",
    "    def K(self, X, X2):\n",
    "        \"\"\"\n",
    "        Compute the full kernel matrix\n",
    "\n",
    "        :param X: np.array\n",
    "        :param X2: np.array\n",
    "        :return: np.array\n",
    "        \"\"\"\n",
    "        n = X.shape[0]\n",
    "\n",
    "        if X2 is None: # Symmetric case\n",
    "\n",
    "            # Compute the upper triangular values\n",
    "            vec = np.empty(shape=n * (n - 1) // 2)\n",
    "            k = 0\n",
    "            for i in range(n - 1):\n",
    "                for j in range(i + 1, n):\n",
    "                    vec[k] = compute_num_matching_subtrees_dp(t1=X[i, 0], t2=X[j, 0], lamb=self.lamb)\n",
    "                    k += 1\n",
    "\n",
    "            # Create a symmetric matrix from the upper triangular values (still has 0's on the main diagonal)\n",
    "            CD = squareform(vec)\n",
    "\n",
    "            # Compute the main diagonal\n",
    "            CD_diag = np.empty(n)\n",
    "            for i in range(n):\n",
    "                CD_diag[i] = compute_num_matching_subtrees_dp(t1=X[i, 0], t2=X[i, 0], lamb=self.lamb)\n",
    "\n",
    "            # Add the main diagonal to get the final Collins & Duffy matrix\n",
    "            CD = CD + np.diag(CD_diag)\n",
    "\n",
    "            # Calculate the embeddings matrix\n",
    "            self.E_symm = self.emb_scale * np.array(np.matmul(X[:, 1:], X[:, 1:].T), dtype=np.float32)\n",
    "\n",
    "            # Combine the C&D matrix with the embeddings matrix\n",
    "            K = CD + self.E_symm\n",
    "\n",
    "        else: # Non-symmetric case\n",
    "\n",
    "            n2 = X2.shape[0]\n",
    "\n",
    "            # Calculate the Collins & Duffy matrix\n",
    "            CD = np.empty((n, n2))\n",
    "\n",
    "            for i in range(n):\n",
    "                for j in range(n2):\n",
    "                    CD[i, j] = compute_num_matching_subtrees_dp(t1=X[i, 0], t2=X2[j, 0], lamb=self.lamb)\n",
    "\n",
    "            # Calculate the embeddings matrix\n",
    "            self.E_asymm = self.emb_scale * np.array(np.matmul(X[:, 1:], X2[:, 1:].T), dtype=np.float32)\n",
    "\n",
    "            # Combine the C&D matrix with the embeddings matrix\n",
    "            K = CD + self.E_asymm\n",
    "\n",
    "        return K\n",
    "\n",
    "    def Kdiag(self, X):\n",
    "        \"\"\"\n",
    "        Compute the main diagonal of the kernel matrix\n",
    "\n",
    "        :param X: np.array\n",
    "        :return: np.array (1-dim)\n",
    "        \"\"\"\n",
    "        n = X.shape[0]\n",
    "        CD_diag = np.empty(n)\n",
    "        E_diag = np.empty(n)\n",
    "        for i in range(n):\n",
    "            CD_diag[i] = compute_num_matching_subtrees_dp(t1=X[i, 0], t2=X[i, 0], lamb=self.lamb)\n",
    "            E_diag[i] = self.emb_scale * np.dot(X[i, 1:], X[i, 1:])\n",
    "\n",
    "        return CD_diag + E_diag\n",
    "\n",
    "    def update_gradients_full(self, dL_dK, X, X2):\n",
    "        \"\"\"\n",
    "        Compute the gradient of the loss function w.r.t the hyperparameters.\n",
    "\n",
    "        :param dL_dK: np.array\n",
    "        :param X: np.array\n",
    "        :param X2: np.array\n",
    "        :return: None\n",
    "        \"\"\"\n",
    "        n = X.shape[0]\n",
    "\n",
    "        # Set up the derivative of the C&D dynamic program w.r.t lambda\n",
    "        part_deriv = grad(compute_num_matching_subtrees_dp, 2)\n",
    "\n",
    "        if X2 is None:\n",
    "\n",
    "            # Compute the upper triangular values of the dK/dlambda\n",
    "            vec = np.empty(shape=n * (n - 1) // 2)\n",
    "            k = 0\n",
    "            for i in range(n - 1):\n",
    "                for j in range(i + 1, n):\n",
    "                    vec[k] = part_deriv(X[i, 0], X[j, 0], self.lamb*1)\n",
    "                    k += 1\n",
    "\n",
    "            # Create a symmetric matrix from the upper triangular values (still has 0's on the main diagonal)\n",
    "            dlambda = squareform(vec)\n",
    "\n",
    "            # Compute the main diagonal\n",
    "            dlambda_diag = np.empty(n)\n",
    "            for i in range(n):\n",
    "                dlambda_diag[i] = part_deriv(X[i, 0], X[i, 0], self.lamb*1)\n",
    "\n",
    "            # Add the main diagonal to get the final derivative\n",
    "            dlambda = dlambda + np.diag(dlambda_diag)\n",
    "\n",
    "            # Compute dL/demb_scale\n",
    "            dE = self.E_symm / self.emb_scale\n",
    "            self.emb_scale.gradient = np.sum(dE * dL_dK)\n",
    "\n",
    "        else:\n",
    "\n",
    "            n2 = X2.shape[0]\n",
    "\n",
    "            # Evaluate the derivative at every element of the kernel matrix\n",
    "            dlambda = np.empty((n, n2))\n",
    "            for i in range(n):\n",
    "                for j in range(n2):\n",
    "                    dlambda[i, j] = part_deriv(X[i, 0], X2[j, 0], self.lamb*1)\n",
    "\n",
    "            # Compute dL/demb_scale\n",
    "            dE = self.E_asymm / self.emb_scale\n",
    "            self.emb_scale.gradient = np.sum(dE * dL_dK)\n",
    "\n",
    "        # Compute dL/dlambda\n",
    "        self.lamb.gradient = np.sum(dlambda * dL_dK)"
   ]
  },
  {
   "cell_type": "code",
   "execution_count": 40,
   "metadata": {},
   "outputs": [],
   "source": [
    "# Functions\n",
    "\n",
    "def generate_test_parse_trees_and_test_embeddings(grammar, test_sentences):\n",
    "    \"\"\"\n",
    "    Generate most likely parses (can be thought of as true parses), worse candidate parses and embeddings for test purposes\n",
    "\n",
    "    :return: 3-tuple of np.arrays\n",
    "    \"\"\"\n",
    "    # Set up fastest parser in NLTK (= beam search)\n",
    "    parser = pchart.InsideChartParser(grammar, beam_size=2000)\n",
    "\n",
    "    # Set up sentence embedder\n",
    "    model = SentenceTransformer('paraphrase-distilroberta-base-v1')\n",
    "\n",
    "    # Number of candidate trees\n",
    "    c = 5\n",
    "\n",
    "    # Initialize the lists\n",
    "    num_sentences = len(test_sentences)\n",
    "\n",
    "    true_parses = [] # it can't be known in advance how many true_parses there will be (bec. only the ones with at least 5 cand parses are considered)\n",
    "    parses = []\n",
    "    embeddings = []\n",
    "\n",
    "    for sent_ind in range(num_sentences):\n",
    "\n",
    "        #true_parse = Tree.convert(tree=next(parser.parse(test_sentences[sent_ind])))\n",
    "        \n",
    "        for best_parse in parser.parse(test_sentences[sent_ind]):\n",
    "            true_parse = Tree.convert(tree=best_parse)\n",
    "            break\n",
    "        \n",
    "        cand_parses = []\n",
    "\n",
    "        count = 0\n",
    "\n",
    "        # Take the c worst parses\n",
    "        for ind, parse in enumerate(reversed(list(parser.parse(test_sentences[sent_ind])))):  # Reversing the list very expensive, maybe can pop\n",
    "            if count > (c - 1):\n",
    "                break\n",
    "            if parse != true_parse:\n",
    "                cand_parses.append(Tree.convert(tree=parse)) # Convert probabilistic tree into tree\n",
    "                count += 1\n",
    "\n",
    "        if len(cand_parses) == c:  # Checks if there are 5 candidate parses (could be more flexible maybe)\n",
    "            # TO-DO: make the following cells flexible enough to support different lengths of cands\n",
    "\n",
    "            # Print the current sentence that is actually included into the dataset\n",
    "            print(test_sentences[sent_ind])\n",
    "\n",
    "            # True parses and embeddings\n",
    "            true_parses.append(true_parse)\n",
    "            embeddings.append(model.encode(\"\".join(test_sentences[sent_ind])))\n",
    "\n",
    "            # Candidate parses for the given observation\n",
    "            parses.append(cand_parses)\n",
    "\n",
    "    return true_parses, parses, embeddings\n",
    "\n",
    "\n",
    "def fit_model(data, train_sent):\n",
    "    \"\"\"\n",
    "    Fit a GPClassification model based on the train_sent\n",
    "\n",
    "    :param data: list of np.arrays\n",
    "    :param sent_inds: list of int\n",
    "    :return: tuple of np.arrays\n",
    "    \"\"\"\n",
    "    X_train, y_train = prepare_dataset(data=data, sent_inds=train_sent)\n",
    "    \n",
    "    kernel = Custom_GPY(input_dim=X_train.shape[1],lamb=0.5122493885645022, e=0.019017003926375585) # average values from optimized model on 50 observations\n",
    "    return GPClassification(X=X_train, Y=y_train.reshape(-1, 1), kernel=kernel)\n",
    "\n",
    "\n",
    "def convert_into_corr_mat(cov_mat):\n",
    "    \"\"\"\n",
    "    Convert a covariance matrix into a correlation matrix\n",
    "    \n",
    "    :param sent_inds: np.array\n",
    "    :return: np.array\n",
    "    \"\"\"\n",
    "    n = cov_mat.shape[0]\n",
    "    upper_triang = np.empty(shape=n * (n - 1) // 2)\n",
    "    k = 0\n",
    "    for i in range(n - 1):\n",
    "        for j in range(i + 1, n):\n",
    "            upper_triang[k] = cov_mat[i,j]/(np.sqrt(cov_mat[i,i])*np.sqrt(cov_mat[j,j]))\n",
    "            k += 1\n",
    "\n",
    "    # Create a symmetric matrix from the upper triangular values (still has 0's on the main diagonal)\n",
    "    corr = squareform(upper_triang)\n",
    "    corr = corr + np.diag(np.ones(n))\n",
    "    \n",
    "    return corr"
   ]
  },
  {
   "cell_type": "code",
   "execution_count": 13,
   "metadata": {},
   "outputs": [],
   "source": [
    "# Parameters\n",
    "SMALL_TRAIN_SENTENCES = 50\n",
    "LARGE_TRAIN_SENTENCES = 200"
   ]
  },
  {
   "cell_type": "code",
   "execution_count": 14,
   "metadata": {},
   "outputs": [],
   "source": [
    "# Sentences of small training data set and big training data set\n",
    "small_sent_train = list(range(SMALL_TRAIN_SENTENCES+2))\n",
    "large_sent_train = list(range(LARGE_TRAIN_SENTENCES+2))\n",
    "\n",
    "# Remove the sentences the test set is based on\n",
    "small_sent_train.remove(0)\n",
    "small_sent_train.remove(4)\n",
    "\n",
    "large_sent_train.remove(0)\n",
    "large_sent_train.remove(4)"
   ]
  },
  {
   "cell_type": "code",
   "execution_count": 15,
   "metadata": {},
   "outputs": [],
   "source": [
    "# Load the training data (assuming they were already generated - run save_model and place in directory first)\n",
    "true_parses_train = np.load(\"true_parses.npy\", allow_pickle=True)\n",
    "cand_parses_train = np.load(\"cand_parses.npy\", allow_pickle=True)\n",
    "embeddings_train = np.load(\"embeddings.npy\", allow_pickle=True)\n",
    "\n",
    "small_data = [true_parses_train[:SMALL_TRAIN_SENTENCES+2], cand_parses_train[:SMALL_TRAIN_SENTENCES+2], embeddings_train[:SMALL_TRAIN_SENTENCES+2]]\n",
    "large_data = [true_parses_train[:LARGE_TRAIN_SENTENCES+2], cand_parses_train[:LARGE_TRAIN_SENTENCES+2], embeddings_train[:LARGE_TRAIN_SENTENCES+2]]"
   ]
  },
  {
   "cell_type": "code",
   "execution_count": 16,
   "metadata": {},
   "outputs": [
    {
     "name": "stderr",
     "output_type": "stream",
     "text": [
      " c:\\users\\flori\\anaconda3\\envs\\mt\\lib\\site-packages\\autograd\\tracer.py:14: UserWarning:Output seems independent of input.\n"
     ]
    }
   ],
   "source": [
    "# Train the models\n",
    "small_model = fit_model(data=small_data, train_sent=small_sent_train)\n",
    "large_model = fit_model(data=large_data, train_sent=large_sent_train)"
   ]
  },
  {
   "cell_type": "code",
   "execution_count": 17,
   "metadata": {},
   "outputs": [],
   "source": [
    "# In order to build the test set, we first need to come up with a grammar from the treebank\n",
    "productions = []\n",
    "for item in treebank.fileids():\n",
    "    \n",
    "    tree_sent_pairs = zip(treebank.sents(item), treebank.parsed_sents(item))\n",
    "\n",
    "    for sent, tree in tree_sent_pairs:  # iterate through all sentences and trees from each file\n",
    "        \n",
    "        if len(sent) < 15:  # Only take sentences of length < 15 to ensure different parses\n",
    "\n",
    "            # Bring trees in CNF\n",
    "            tree.collapse_unary(collapsePOS=True)  # Remove branches A-B-C into A-B+C\n",
    "            tree.chomsky_normal_form()  # Remove A->(B,C,D) into A->B,C+D->D\n",
    "\n",
    "            # Keep track of productions to produce the PCFG\n",
    "            productions += tree.productions()\n",
    "\n",
    "S = Nonterminal(\"S\")\n",
    "grammar = induce_pcfg(S, productions)"
   ]
  },
  {
   "cell_type": "code",
   "execution_count": 41,
   "metadata": {},
   "outputs": [
    {
     "name": "stdout",
     "output_type": "stream",
     "text": [
      "['Mr.', 'Vinken', 'is', 'chairman', 'of', 'Elsevier', 'N.V.', ',', 'the', 'Dutch', 'publishing', 'group', '.']\n",
      "['Mrs.', 'Barnum', 'is', 'chairman', 'of', 'Elsevier', 'N.V.', ',', 'the', 'Dutch', 'publishing', 'group', '.']\n",
      "['Mr.', 'Barnum', 'is', 'chairman', 'of', 'Elsevier', 'N.V.', ',', 'the', 'Dutch', 'publishing', 'group', '.']\n",
      "['Mr.', 'Vinken', 'is', 'president', 'of', 'Elsevier', 'N.V.', ',', 'the', 'Dutch', 'publishing', 'group', '.']\n",
      "['Mr.', 'Vinken', 'is', 'chairman', 'of', 'Apple', 'N.V.', ',', 'the', 'Dutch', 'publishing', 'group', '.']\n",
      "['Mr.', 'Vinken', 'is', 'chairman', 'of', 'Elsevier', 'N.V.', ',', 'the', 'U.S.', 'publishing', 'group', '.']\n",
      "['Mr.', 'Vinken', 'is', 'chairman', 'of', 'Elsevier', 'N.V.', ',', 'the', 'Dutch', 'financial', 'company', '.']\n",
      "['The', 'top', 'money', 'funds', 'are', 'currently', 'yielding', 'well', 'over', '9', '%', '.']\n",
      "['The', 'good', 'money', 'funds', 'are', 'currently', 'yielding', 'well', 'over', '9', '%', '.']\n",
      "['The', 'top', 'investment', 'funds', 'are', 'currently', 'yielding', 'well', 'over', '9', '%', '.']\n",
      "['The', 'top', 'money', 'companies', 'are', 'currently', 'yielding', 'well', 'over', '9', '%', '.']\n",
      "['The', 'top', 'money', 'funds', 'are', 'currently', 'making', 'well', 'over', '9', '%', '.']\n",
      "['The', 'top', 'money', 'funds', 'are', 'currently', 'yielding', 'well', 'below', '9', '%', '.']\n"
     ]
    }
   ],
   "source": [
    "# Given a grammar and test sentences, build the test parses and embeddings\n",
    "true_parses_test, parses_test, embeddings_test = generate_test_parse_trees_and_test_embeddings(grammar=grammar, test_sentences=test_sentences)"
   ]
  },
  {
   "cell_type": "code",
   "execution_count": 21,
   "metadata": {},
   "outputs": [],
   "source": [
    "# Convert the true parses and candidate parses into the custom data structure ConstituencyTree\n",
    "new_true_trees_test = transform_nltk_trees(true_parses_test)\n",
    "\n",
    "new_cands_lists_test = np.empty(shape=len(true_parses_test), dtype=object)\n",
    "for ind, cands in enumerate(parses_test):\n",
    "    new_cands_lists_test[ind] = transform_nltk_trees(cands)\n",
    "\n",
    "new_embeddings_test = np.array(embeddings_test, dtype=object)\n",
    "\n",
    "data_test = [new_true_trees_test, new_cands_lists_test, new_embeddings_test]"
   ]
  },
  {
   "cell_type": "code",
   "execution_count": 22,
   "metadata": {},
   "outputs": [],
   "source": [
    "# Build the test set\n",
    "X_test, y_test = prepare_dataset(data=data_test, sent_inds=list(range(len(true_parses_test))))"
   ]
  },
  {
   "cell_type": "code",
   "execution_count": 23,
   "metadata": {},
   "outputs": [],
   "source": [
    "# Investigate the covariance matrix\n",
    "# Extract the covariance matrix of the sentences in the test set\n",
    "post_mu_small, post_var_small = small_model._raw_predict(X_test, full_cov=True)\n",
    "post_mu_large, post_var_large = large_model._raw_predict(X_test, full_cov=True)"
   ]
  },
  {
   "cell_type": "code",
   "execution_count": 24,
   "metadata": {},
   "outputs": [],
   "source": [
    "# Convert into correlation matrix\n",
    "post_cor_small = convert_into_corr_mat(post_var_small)\n",
    "post_cor_large = convert_into_corr_mat(post_var_large)"
   ]
  },
  {
   "cell_type": "code",
   "execution_count": 25,
   "metadata": {},
   "outputs": [
    {
     "data": {
      "text/plain": [
       "<AxesSubplot:>"
      ]
     },
     "execution_count": 25,
     "metadata": {},
     "output_type": "execute_result"
    },
    {
     "data": {
      "image/png": "[encoded data removed]",
      "text/plain": [
       "<Figure size 432x288 with 4 Axes>"
      ]
     },
     "metadata": {
      "needs_background": "light"
     },
     "output_type": "display_data"
    }
   ],
   "source": [
    "# All test samples -> Conclusion: See the two clusters stemming from two different slightly changed sentences\n",
    "fig, ax = plt.subplots(1,2)\n",
    "sb.heatmap(post_cor_small, ax=ax[0])\n",
    "sb.heatmap(post_cor_large, ax=ax[1])"
   ]
  },
  {
   "cell_type": "code",
   "execution_count": 28,
   "metadata": {},
   "outputs": [
    {
     "data": {
      "text/plain": [
       "<AxesSubplot:>"
      ]
     },
     "execution_count": 28,
     "metadata": {},
     "output_type": "execute_result"
    },
    {
     "data": {
      "image/png": "[encoded data removed]",
      "text/plain": [
       "<Figure size 432x288 with 4 Axes>"
      ]
     },
     "metadata": {
      "needs_background": "light"
     },
     "output_type": "display_data"
    }
   ],
   "source": [
    "# Set the main diagonal to zero to make correlations more visible\n",
    "post_cor_small_no_diag = post_cor_small.copy()\n",
    "post_cor_large_no_diag = post_cor_large.copy()\n",
    "np.fill_diagonal(post_cor_small_no_diag, 0)\n",
    "np.fill_diagonal(post_cor_large_no_diag, 0)\n",
    "\n",
    "# Plot slightly less points to better observe that correlations within similar sentences are high but \n",
    "# between the two sentence blocks are low\n",
    "\n",
    "fig, ax = plt.subplots(1,2)\n",
    "sb.heatmap(post_cor_small_no_diag[:12,:12], ax=ax[0]) # 7 sentences (i.e. true parse and 5 cands) of first cluster and 3 (i.e. true parse and 5 cands) of second\n",
    "sb.heatmap(post_cor_large_no_diag[:12,:12], ax=ax[1])"
   ]
  },
  {
   "cell_type": "code",
   "execution_count": 27,
   "metadata": {},
   "outputs": [
    {
     "data": {
      "text/plain": [
       "<matplotlib.legend.Legend at 0x1f4272eef48>"
      ]
     },
     "execution_count": 27,
     "metadata": {},
     "output_type": "execute_result"
    },
    {
     "data": {
      "image/png": "[encoded data removed]",
      "text/plain": [
       "<Figure size 432x288 with 1 Axes>"
      ]
     },
     "metadata": {
      "needs_background": "light"
     },
     "output_type": "display_data"
    }
   ],
   "source": [
    "# Investigate the mean function\n",
    "\n",
    "plt.plot(post_mu_small, 'b-', alpha=0.8)\n",
    "plt.plot(post_mu_large, 'r-', alpha=0.3)\n",
    "plt.ylim([-25, 8])\n",
    "plt.ylabel(\"Posterior mean\")\n",
    "plt.xlabel(\"Index\")\n",
    "plt.legend([\"Posterior mean after seeing 50 samples\", \"Posterior mean after seeing 200 samples\"], loc=\"lower right\")\n",
    "\n",
    "# Histogram?\n",
    "\n",
    "# Ratio von rot zu blau für jeden Index berechnen und dann mean bilden"
   ]
  },
  {
   "cell_type": "code",
   "execution_count": 48,
   "metadata": {},
   "outputs": [
    {
     "data": {
      "text/plain": [
       "<matplotlib.legend.Legend at 0x1f4260bb248>"
      ]
     },
     "execution_count": 48,
     "metadata": {},
     "output_type": "execute_result"
    },
    {
     "data": {
      "image/png": "[encoded data removed]",
      "text/plain": [
       "<Figure size 432x288 with 1 Axes>"
      ]
     },
     "metadata": {
      "needs_background": "light"
     },
     "output_type": "display_data"
    }
   ],
   "source": [
    "# One can see that higher posterior mean values (in absolute value) are much more common for the model based on 200 samples\n",
    "\n",
    "bins = np.linspace(0, 20, 25)\n",
    "\n",
    "plt.hist(np.abs(post_mu_small),bins,alpha=0.2, label='Posterior mean after seeing 50 samples')\n",
    "plt.hist(np.abs(post_mu_large),bins,alpha=0.3, label='Posterior mean after seeing 200 samples')\n",
    "plt.ylabel(\"Frequency\")\n",
    "plt.legend(loc='upper right')"
   ]
  },
  {
   "cell_type": "code",
   "execution_count": 36,
   "metadata": {},
   "outputs": [
    {
     "data": {
      "text/plain": [
       "2.38019294511078"
      ]
     },
     "execution_count": 36,
     "metadata": {},
     "output_type": "execute_result"
    }
   ],
   "source": [
    "# On average, the posterior mean after seeing 200 samples is 138% higher than the posterior mean after seeing 50 samples.\n",
    "# Even though the covariance does not change, if the posterior mean is further from 0, sampling will lead to consistently\n",
    "# positive or negative values, which once squeezed through the sigmoid, will lead to clearer decisions\n",
    "\n",
    "np.mean(post_mu_large/post_mu_small)"
   ]
  }
 ],
 "metadata": {
  "kernelspec": {
   "display_name": "mt",
   "language": "python",
   "name": "mt"
  },
  "language_info": {
   "codemirror_mode": {
    "name": "ipython",
    "version": 3
   },
   "file_extension": ".py",
   "mimetype": "text/x-python",
   "name": "python",
   "nbconvert_exporter": "python",
   "pygments_lexer": "ipython3",
   "version": "3.7.10"
  }
 },
 "nbformat": 4,
 "nbformat_minor": 4
}
